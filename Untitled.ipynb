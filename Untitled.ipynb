{
 "cells": [
  {
   "cell_type": "code",
   "execution_count": 6,
   "metadata": {},
   "outputs": [
    {
     "name": "stdout",
     "output_type": "stream",
     "text": [
      "15\n",
      "1, 2, Fizz, 4, Buzz, Fizz, 7, 8, Fizz, Buzz, 11, Fizz, 13, 14, Fizz Buzz"
     ]
    }
   ],
   "source": [
    "a = int(input())\n",
    "for i in range(1, a + 1):\n",
    "    if (i % 15 == 0):\n",
    "        print(\"Fizz Buzz\", end=\"\")\n",
    "    elif (i % 3 == 0):\n",
    "        print(\"Fizz\", end=\"\")\n",
    "    elif (i % 5 == 0):\n",
    "        print(\"Buzz\", end=\"\")\n",
    "    else:\n",
    "        print(i, end=\"\")\n",
    "    if (i != a):\n",
    "        print(\",\", end=\" \")"
   ]
  },
  {
   "cell_type": "code",
   "execution_count": 13,
   "metadata": {},
   "outputs": [
    {
     "name": "stdout",
     "output_type": "stream",
     "text": [
      "223700\n",
      "223700\n"
     ]
    }
   ],
   "source": [
    "def three_digits(a):\n",
    "    return a // 100 + a % 10 + (a // 10) % 10\n",
    "\n",
    "a = int(input())\n",
    "first = a // 1000\n",
    "second = a - first * 1000\n",
    "first_digits = three_digits(first)\n",
    "i = 0\n",
    "while (1):\n",
    "    if (three_digits(second + i) == first_digits):\n",
    "        print(str(first) + str(second + i))\n",
    "        break\n",
    "    elif (three_digits(second - i) == first_digits):\n",
    "        print(str(first) + str(second - i))\n",
    "        break\n",
    "    else:\n",
    "        i += 1"
   ]
  },
  {
   "cell_type": "code",
   "execution_count": null,
   "metadata": {},
   "outputs": [],
   "source": [
    "n = int(input())\n",
    "m = int(input())\n",
    "x = [[i * j for i in range(n)] for j in range(m)"
   ]
  },
  {
   "cell_type": "code",
   "execution_count": 1,
   "metadata": {},
   "outputs": [],
   "source": [
    "import pandas as pd"
   ]
  },
  {
   "cell_type": "code",
   "execution_count": 5,
   "metadata": {},
   "outputs": [],
   "source": [
    "kendall = pd.DataFrame()\n",
    "kendall['ImageType'] = ['Noise', 'Actual', 'Simple', 'Exotic', 'New', 'Color']\n",
    "kendall['angle'] = [-0.233, -0.257, -0.240, -0.151, -0.423, -0.368]\n",
    "kendall['l2'] = [-0.228, -0.249, -0.233, -0.097, -0.425, -0.370]\n",
    "kendall['ciede'] = [-0.286, -0.317, -0.377, -0.156, -0.521, -0.451]"
   ]
  },
  {
   "cell_type": "code",
   "execution_count": 6,
   "metadata": {},
   "outputs": [
    {
     "data": {
      "text/html": [
       "<div>\n",
       "<style scoped>\n",
       "    .dataframe tbody tr th:only-of-type {\n",
       "        vertical-align: middle;\n",
       "    }\n",
       "\n",
       "    .dataframe tbody tr th {\n",
       "        vertical-align: top;\n",
       "    }\n",
       "\n",
       "    .dataframe thead th {\n",
       "        text-align: right;\n",
       "    }\n",
       "</style>\n",
       "<table border=\"1\" class=\"dataframe\">\n",
       "  <thead>\n",
       "    <tr style=\"text-align: right;\">\n",
       "      <th></th>\n",
       "      <th>ImageType</th>\n",
       "      <th>angle</th>\n",
       "      <th>l2</th>\n",
       "      <th>ciede</th>\n",
       "    </tr>\n",
       "  </thead>\n",
       "  <tbody>\n",
       "    <tr>\n",
       "      <th>0</th>\n",
       "      <td>Noise</td>\n",
       "      <td>-0.233</td>\n",
       "      <td>-0.228</td>\n",
       "      <td>-0.286</td>\n",
       "    </tr>\n",
       "    <tr>\n",
       "      <th>1</th>\n",
       "      <td>Actual</td>\n",
       "      <td>-0.257</td>\n",
       "      <td>-0.249</td>\n",
       "      <td>-0.317</td>\n",
       "    </tr>\n",
       "    <tr>\n",
       "      <th>2</th>\n",
       "      <td>Simple</td>\n",
       "      <td>-0.240</td>\n",
       "      <td>-0.233</td>\n",
       "      <td>-0.377</td>\n",
       "    </tr>\n",
       "    <tr>\n",
       "      <th>3</th>\n",
       "      <td>Exotic</td>\n",
       "      <td>-0.151</td>\n",
       "      <td>-0.097</td>\n",
       "      <td>-0.156</td>\n",
       "    </tr>\n",
       "    <tr>\n",
       "      <th>4</th>\n",
       "      <td>New</td>\n",
       "      <td>-0.423</td>\n",
       "      <td>-0.425</td>\n",
       "      <td>-0.521</td>\n",
       "    </tr>\n",
       "    <tr>\n",
       "      <th>5</th>\n",
       "      <td>Color</td>\n",
       "      <td>-0.368</td>\n",
       "      <td>-0.370</td>\n",
       "      <td>-0.451</td>\n",
       "    </tr>\n",
       "  </tbody>\n",
       "</table>\n",
       "</div>"
      ],
      "text/plain": [
       "  ImageType  angle     l2  ciede\n",
       "0     Noise -0.233 -0.228 -0.286\n",
       "1    Actual -0.257 -0.249 -0.317\n",
       "2    Simple -0.240 -0.233 -0.377\n",
       "3    Exotic -0.151 -0.097 -0.156\n",
       "4       New -0.423 -0.425 -0.521\n",
       "5     Color -0.368 -0.370 -0.451"
      ]
     },
     "execution_count": 6,
     "metadata": {},
     "output_type": "execute_result"
    }
   ],
   "source": [
    "kendall"
   ]
  },
  {
   "cell_type": "code",
   "execution_count": 7,
   "metadata": {},
   "outputs": [],
   "source": [
    "spearman = pd.DataFrame()\n",
    "spearman['ImageType'] = ['Noise', 'Actual', 'Simple', 'Exotic', 'New', 'Color']\n",
    "spearman['angle'] = [-0.336, -0.383, -0.335, -0.221, -0.611, -0.544]\n",
    "spearman['l2'] = [-0.328, -0.370, -0.325, -0.148, -0.612, -0.546]\n",
    "spearman['ciede'] = [-0.412, -0.470, -0.538, -0.234, -0.729, -0.645]"
   ]
  },
  {
   "cell_type": "code",
   "execution_count": 8,
   "metadata": {},
   "outputs": [
    {
     "data": {
      "text/html": [
       "<div>\n",
       "<style scoped>\n",
       "    .dataframe tbody tr th:only-of-type {\n",
       "        vertical-align: middle;\n",
       "    }\n",
       "\n",
       "    .dataframe tbody tr th {\n",
       "        vertical-align: top;\n",
       "    }\n",
       "\n",
       "    .dataframe thead th {\n",
       "        text-align: right;\n",
       "    }\n",
       "</style>\n",
       "<table border=\"1\" class=\"dataframe\">\n",
       "  <thead>\n",
       "    <tr style=\"text-align: right;\">\n",
       "      <th></th>\n",
       "      <th>ImageType</th>\n",
       "      <th>angle</th>\n",
       "      <th>l2</th>\n",
       "      <th>ciede</th>\n",
       "    </tr>\n",
       "  </thead>\n",
       "  <tbody>\n",
       "    <tr>\n",
       "      <th>0</th>\n",
       "      <td>Noise</td>\n",
       "      <td>-0.336</td>\n",
       "      <td>-0.328</td>\n",
       "      <td>-0.412</td>\n",
       "    </tr>\n",
       "    <tr>\n",
       "      <th>1</th>\n",
       "      <td>Actual</td>\n",
       "      <td>-0.383</td>\n",
       "      <td>-0.370</td>\n",
       "      <td>-0.470</td>\n",
       "    </tr>\n",
       "    <tr>\n",
       "      <th>2</th>\n",
       "      <td>Simple</td>\n",
       "      <td>-0.335</td>\n",
       "      <td>-0.325</td>\n",
       "      <td>-0.538</td>\n",
       "    </tr>\n",
       "    <tr>\n",
       "      <th>3</th>\n",
       "      <td>Exotic</td>\n",
       "      <td>-0.221</td>\n",
       "      <td>-0.148</td>\n",
       "      <td>-0.234</td>\n",
       "    </tr>\n",
       "    <tr>\n",
       "      <th>4</th>\n",
       "      <td>New</td>\n",
       "      <td>-0.611</td>\n",
       "      <td>-0.612</td>\n",
       "      <td>-0.729</td>\n",
       "    </tr>\n",
       "    <tr>\n",
       "      <th>5</th>\n",
       "      <td>Color</td>\n",
       "      <td>-0.544</td>\n",
       "      <td>-0.546</td>\n",
       "      <td>-0.645</td>\n",
       "    </tr>\n",
       "  </tbody>\n",
       "</table>\n",
       "</div>"
      ],
      "text/plain": [
       "  ImageType  angle     l2  ciede\n",
       "0     Noise -0.336 -0.328 -0.412\n",
       "1    Actual -0.383 -0.370 -0.470\n",
       "2    Simple -0.335 -0.325 -0.538\n",
       "3    Exotic -0.221 -0.148 -0.234\n",
       "4       New -0.611 -0.612 -0.729\n",
       "5     Color -0.544 -0.546 -0.645"
      ]
     },
     "execution_count": 8,
     "metadata": {},
     "output_type": "execute_result"
    }
   ],
   "source": [
    "spearman"
   ]
  },
  {
   "cell_type": "code",
   "execution_count": 3,
   "metadata": {},
   "outputs": [],
   "source": [
    "d = 485 - 1000 + 360 + 160 + 1075 + 1655 + 540 - 1000 + 785 + 270\n",
    "k = 30 - 1000 - 1420 + 1905 - 1000 - 3000 - 1000 - 1500 - 95 + (35)\n",
    "e = -1000 + 1500 + 1700 - 500 + 925 - 1500 + 95 - 1000 + 70 - 460\n",
    "v = 485 + 500 - 640 - 1565 - 2000 + 785 + 2365 + 3000 + 670 + 285"
   ]
  },
  {
   "cell_type": "code",
   "execution_count": 4,
   "metadata": {},
   "outputs": [
    {
     "name": "stdout",
     "output_type": "stream",
     "text": [
      "3330 -7045 -170 3885\n",
      "0\n"
     ]
    }
   ],
   "source": [
    "print(d, k, e, v)\n",
    "print(d+k+e+v)"
   ]
  },
  {
   "cell_type": "code",
   "execution_count": 5,
   "metadata": {},
   "outputs": [
    {
     "data": {
      "text/plain": [
       "-7215"
      ]
     },
     "execution_count": 5,
     "metadata": {},
     "output_type": "execute_result"
    }
   ],
   "source": [
    "k+e"
   ]
  },
  {
   "cell_type": "code",
   "execution_count": null,
   "metadata": {},
   "outputs": [],
   "source": []
  }
 ],
 "metadata": {
  "kernelspec": {
   "display_name": "Python 3",
   "language": "python",
   "name": "python3"
  },
  "language_info": {
   "codemirror_mode": {
    "name": "ipython",
    "version": 3
   },
   "file_extension": ".py",
   "mimetype": "text/x-python",
   "name": "python",
   "nbconvert_exporter": "python",
   "pygments_lexer": "ipython3",
   "version": "3.8.5"
  }
 },
 "nbformat": 4,
 "nbformat_minor": 4
}
